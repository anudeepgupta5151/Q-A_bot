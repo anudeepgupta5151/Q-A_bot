{
 "cells": [
  {
   "cell_type": "markdown",
   "id": "fe59a3da",
   "metadata": {},
   "source": [
    "### Install required packages"
   ]
  },
  {
   "cell_type": "code",
   "execution_count": null,
   "id": "ab6b9bd9",
   "metadata": {},
   "outputs": [],
   "source": [
    "pip install langchain==0.0.284"
   ]
  },
  {
   "cell_type": "code",
   "execution_count": null,
   "id": "87c97424",
   "metadata": {},
   "outputs": [],
   "source": [
    "pip install InstructorEmbedding==1.0.1 sentence_transformers==2.2.2"
   ]
  },
  {
   "cell_type": "code",
   "execution_count": null,
   "id": "5d783bfe",
   "metadata": {},
   "outputs": [],
   "source": [
    "pip install torch==2.1.1"
   ]
  },
  {
   "cell_type": "code",
   "execution_count": null,
   "id": "fe92b029",
   "metadata": {},
   "outputs": [],
   "source": [
    "pip install chromadb faiss-cpu"
   ]
  },
  {
   "cell_type": "code",
   "execution_count": null,
   "id": "7b02dad1",
   "metadata": {},
   "outputs": [],
   "source": [
    "import os \n",
    "os.chdir ('C:\\Q&A bot')"
   ]
  },
  {
   "cell_type": "code",
   "execution_count": null,
   "id": "4d09a53a",
   "metadata": {},
   "outputs": [],
   "source": [
    "pwd"
   ]
  },
  {
   "cell_type": "markdown",
   "id": "66f7aaea",
   "metadata": {},
   "source": [
    "### load data from sample FAQ csv file"
   ]
  },
  {
   "cell_type": "code",
   "execution_count": null,
   "id": "629eb9b1",
   "metadata": {},
   "outputs": [],
   "source": [
    "from langchain.document_loaders.csv_loader import CSVLoader\n",
    "\n",
    "loader = CSVLoader(file_path='sample_faqs.csv', source_column=\"prompt\")\n",
    "\n",
    "# Store the loaded data in the 'faq_data' variable\n",
    "faq_data = loader.load()"
   ]
  },
  {
   "cell_type": "markdown",
   "id": "57ddb45c",
   "metadata": {},
   "source": [
    "### Initialize and test Hugging Face Embeddings"
   ]
  },
  {
   "cell_type": "code",
   "execution_count": null,
   "id": "81e8c39d",
   "metadata": {},
   "outputs": [],
   "source": [
    "from langchain.embeddings import HuggingFaceInstructEmbeddings\n",
    "\n",
    "# Initializing embeddings using the Hugging Face model\n",
    "model_name = \"hkunlp/instructor-large\"\n",
    "encode_kwargs = {'normalize_embeddings': True}\n",
    "hf = HuggingFaceInstructEmbeddings(\n",
    "    model_name=model_name,\n",
    "    encode_kwargs=encode_kwargs\n",
    ")"
   ]
  },
  {
   "cell_type": "code",
   "execution_count": null,
   "id": "fb772548",
   "metadata": {},
   "outputs": [],
   "source": [
    "test_embeding_01 = hf.embed_query(\"How do I cancel the order, I have placed?\")\n",
    "print(test_embeding_01)"
   ]
  },
  {
   "cell_type": "code",
   "execution_count": null,
   "id": "e511c213",
   "metadata": {},
   "outputs": [],
   "source": [
    "len(test_embeding_01)"
   ]
  },
  {
   "cell_type": "code",
   "execution_count": null,
   "id": "9ac6a123",
   "metadata": {},
   "outputs": [],
   "source": [
    "test_embeding_02 = hf.embed_query(\"Hi\")\n",
    "print(test_embeding_02)"
   ]
  },
  {
   "cell_type": "code",
   "execution_count": null,
   "id": "ce94e107",
   "metadata": {},
   "outputs": [],
   "source": [
    "len(test_embeding_02)"
   ]
  },
  {
   "cell_type": "code",
   "execution_count": null,
   "id": "5bee2d20",
   "metadata": {},
   "outputs": [],
   "source": [
    "type(test_embeding_02)"
   ]
  },
  {
   "cell_type": "markdown",
   "id": "381abfdb",
   "metadata": {},
   "source": [
    "As we can see above, the model encodes the given sentence to embeding of length 768 irrespective of the length of sentence. These numbers doesnot make any sense to us but in reality they are capturing the meaning of the sentence."
   ]
  },
  {
   "cell_type": "markdown",
   "id": "370b7ca2",
   "metadata": {},
   "source": [
    "### Initilaizing FAISS vectordb, loading and retreiving the data"
   ]
  },
  {
   "cell_type": "code",
   "execution_count": null,
   "id": "0813e089",
   "metadata": {},
   "outputs": [],
   "source": [
    "from langchain.vectorstores import FAISS\n",
    "\n",
    "# Create a FAISS instance for vector database from 'data'\n",
    "faiss_vectordb = FAISS.from_documents(documents=faq_data,\n",
    "                                 embedding=hf)\n",
    "\n"
   ]
  },
  {
   "cell_type": "code",
   "execution_count": null,
   "id": "f825286a",
   "metadata": {},
   "outputs": [],
   "source": [
    "# Create a retriever for querying the vector database\n",
    "faiss_retriever = faiss_vectordb.as_retriever(score_threshold = 0.7)"
   ]
  },
  {
   "cell_type": "code",
   "execution_count": null,
   "id": "986c94cc",
   "metadata": {},
   "outputs": [],
   "source": [
    "faiss_rdocs = faiss_retriever.get_relevant_documents(\"How do I cancel the order, I have placed?\")\n",
    "faiss_rdocs"
   ]
  },
  {
   "cell_type": "markdown",
   "id": "fbce0013",
   "metadata": {},
   "source": [
    "Exploring other vetordb such as chromadb"
   ]
  }
 ],
 "metadata": {
  "kernelspec": {
   "display_name": "Python 3 (ipykernel)",
   "language": "python",
   "name": "python3"
  },
  "language_info": {
   "codemirror_mode": {
    "name": "ipython",
    "version": 3
   },
   "file_extension": ".py",
   "mimetype": "text/x-python",
   "name": "python",
   "nbconvert_exporter": "python",
   "pygments_lexer": "ipython3",
   "version": "3.9.7"
  }
 },
 "nbformat": 4,
 "nbformat_minor": 5
}
